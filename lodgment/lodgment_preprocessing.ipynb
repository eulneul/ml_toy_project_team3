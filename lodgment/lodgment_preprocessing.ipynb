{
 "cells": [
  {
   "cell_type": "code",
   "execution_count": 1,
   "id": "fb3e3d25",
   "metadata": {},
   "outputs": [],
   "source": [
    "import pandas as pd\n",
    "import numpy as np\n",
    "\n",
    "from sklearn.preprocessing import LabelEncoder"
   ]
  },
  {
   "cell_type": "code",
   "execution_count": 2,
   "id": "02b9b6eb",
   "metadata": {},
   "outputs": [],
   "source": [
    "df = pd.read_csv('/Users/hyeokseung/Desktop/KHUDA_TOY/Data/숙박 여행 유형 정보/csv/LDGMENT_MERGE.csv')"
   ]
  },
  {
   "cell_type": "code",
   "execution_count": 3,
   "id": "bf70b56a",
   "metadata": {},
   "outputs": [
    {
     "name": "stdout",
     "output_type": "stream",
     "text": [
      "<class 'pandas.core.frame.DataFrame'>\n",
      "RangeIndex: 16553 entries, 0 to 16552\n",
      "Data columns (total 9 columns):\n",
      " #   Column                 Non-Null Count  Dtype \n",
      "---  ------                 --------------  ----- \n",
      " 0   Unnamed: 0             16553 non-null  int64 \n",
      " 1   RESPOND_ID             16553 non-null  int64 \n",
      " 2   EXAMIN_YM              16553 non-null  int64 \n",
      " 3   SEXDSTN_FLAG_CD        16553 non-null  object\n",
      " 4   AGRDE_FLAG_NM          16553 non-null  object\n",
      " 5   ANSWRR_OC_AREA_NM      16553 non-null  object\n",
      " 6   HSHLD_INCOME_DGREE_NM  16553 non-null  object\n",
      " 7   DMSTC_TOUR_TY_VALUE    16553 non-null  object\n",
      " 8   OVSEA_TOUR_TY_VALUE    16553 non-null  object\n",
      "dtypes: int64(3), object(6)\n",
      "memory usage: 1.1+ MB\n"
     ]
    }
   ],
   "source": [
    "df.info()"
   ]
  },
  {
   "cell_type": "code",
   "execution_count": 4,
   "id": "e6517f28",
   "metadata": {},
   "outputs": [],
   "source": [
    "idx = df[df['HSHLD_INCOME_DGREE_NM']=='모름'].index\n",
    "df.drop(idx, inplace=True)"
   ]
  },
  {
   "cell_type": "code",
   "execution_count": 5,
   "id": "a17a5351",
   "metadata": {},
   "outputs": [],
   "source": [
    "encoding_columns = ['SEXDSTN_FLAG_CD', 'AGRDE_FLAG_NM', \n",
    "                    'ANSWRR_OC_AREA_NM', 'HSHLD_INCOME_DGREE_NM',\n",
    "                    'HSHLD_INCOME_DGREE_NM', 'DMSTC_TOUR_TY_VALUE',\n",
    "                   ]\n",
    "not_encoding_columns = ['RESPOND_ID', 'EXAMIN_YM', 'OVSEA_TOUR_TY_VALUE']"
   ]
  },
  {
   "cell_type": "code",
   "execution_count": 6,
   "id": "63242ae6",
   "metadata": {},
   "outputs": [],
   "source": [
    "enc_classes = {}\n",
    "\n",
    "def encoding_label(x):\n",
    "    le = LabelEncoder()\n",
    "    le.fit(x)\n",
    "    label = le.transform(x)\n",
    "    \n",
    "    enc_classes[x.name] = le.classes_\n",
    "    \n",
    "    return label"
   ]
  },
  {
   "cell_type": "code",
   "execution_count": 7,
   "id": "9eaa4c91",
   "metadata": {},
   "outputs": [
    {
     "data": {
      "text/html": [
       "<div>\n",
       "<style scoped>\n",
       "    .dataframe tbody tr th:only-of-type {\n",
       "        vertical-align: middle;\n",
       "    }\n",
       "\n",
       "    .dataframe tbody tr th {\n",
       "        vertical-align: top;\n",
       "    }\n",
       "\n",
       "    .dataframe thead th {\n",
       "        text-align: right;\n",
       "    }\n",
       "</style>\n",
       "<table border=\"1\" class=\"dataframe\">\n",
       "  <thead>\n",
       "    <tr style=\"text-align: right;\">\n",
       "      <th></th>\n",
       "      <th>RESPOND_ID</th>\n",
       "      <th>EXAMIN_YM</th>\n",
       "      <th>SEXDSTN_FLAG_CD</th>\n",
       "      <th>AGRDE_FLAG_NM</th>\n",
       "      <th>ANSWRR_OC_AREA_NM</th>\n",
       "      <th>HSHLD_INCOME_DGREE_NM</th>\n",
       "      <th>HSHLD_INCOME_DGREE_NM</th>\n",
       "      <th>DMSTC_TOUR_TY_VALUE</th>\n",
       "    </tr>\n",
       "  </thead>\n",
       "  <tbody>\n",
       "    <tr>\n",
       "      <th>0</th>\n",
       "      <td>359452</td>\n",
       "      <td>202210</td>\n",
       "      <td>1</td>\n",
       "      <td>0</td>\n",
       "      <td>1</td>\n",
       "      <td>0</td>\n",
       "      <td>0</td>\n",
       "      <td>0</td>\n",
       "    </tr>\n",
       "    <tr>\n",
       "      <th>1</th>\n",
       "      <td>359820</td>\n",
       "      <td>202210</td>\n",
       "      <td>1</td>\n",
       "      <td>0</td>\n",
       "      <td>1</td>\n",
       "      <td>2</td>\n",
       "      <td>2</td>\n",
       "      <td>0</td>\n",
       "    </tr>\n",
       "    <tr>\n",
       "      <th>2</th>\n",
       "      <td>368738</td>\n",
       "      <td>202210</td>\n",
       "      <td>1</td>\n",
       "      <td>0</td>\n",
       "      <td>8</td>\n",
       "      <td>2</td>\n",
       "      <td>2</td>\n",
       "      <td>0</td>\n",
       "    </tr>\n",
       "    <tr>\n",
       "      <th>3</th>\n",
       "      <td>394182</td>\n",
       "      <td>202210</td>\n",
       "      <td>1</td>\n",
       "      <td>0</td>\n",
       "      <td>8</td>\n",
       "      <td>3</td>\n",
       "      <td>3</td>\n",
       "      <td>0</td>\n",
       "    </tr>\n",
       "    <tr>\n",
       "      <th>4</th>\n",
       "      <td>407377</td>\n",
       "      <td>202210</td>\n",
       "      <td>1</td>\n",
       "      <td>0</td>\n",
       "      <td>1</td>\n",
       "      <td>1</td>\n",
       "      <td>1</td>\n",
       "      <td>0</td>\n",
       "    </tr>\n",
       "  </tbody>\n",
       "</table>\n",
       "</div>"
      ],
      "text/plain": [
       "   RESPOND_ID  EXAMIN_YM  SEXDSTN_FLAG_CD  AGRDE_FLAG_NM  ANSWRR_OC_AREA_NM  \\\n",
       "0      359452     202210                1              0                  1   \n",
       "1      359820     202210                1              0                  1   \n",
       "2      368738     202210                1              0                  8   \n",
       "3      394182     202210                1              0                  8   \n",
       "4      407377     202210                1              0                  1   \n",
       "\n",
       "   HSHLD_INCOME_DGREE_NM  HSHLD_INCOME_DGREE_NM  DMSTC_TOUR_TY_VALUE  \n",
       "0                      0                      0                    0  \n",
       "1                      2                      2                    0  \n",
       "2                      2                      2                    0  \n",
       "3                      3                      3                    0  \n",
       "4                      1                      1                    0  "
      ]
     },
     "execution_count": 7,
     "metadata": {},
     "output_type": "execute_result"
    }
   ],
   "source": [
    "d1 = df[encoding_columns].apply(encoding_label) \n",
    "d2 = df[not_encoding_columns]\n",
    "d2 = d2.drop(labels='OVSEA_TOUR_TY_VALUE', axis=1)\n",
    "data = d2.join(d1)\n",
    "data.head()"
   ]
  },
  {
   "cell_type": "code",
   "execution_count": 8,
   "id": "de36ebed",
   "metadata": {},
   "outputs": [
    {
     "name": "stdout",
     "output_type": "stream",
     "text": [
      "<class 'pandas.core.frame.DataFrame'>\n",
      "Int64Index: 15640 entries, 0 to 16552\n",
      "Data columns (total 8 columns):\n",
      " #   Column                 Non-Null Count  Dtype\n",
      "---  ------                 --------------  -----\n",
      " 0   RESPOND_ID             15640 non-null  int64\n",
      " 1   EXAMIN_YM              15640 non-null  int64\n",
      " 2   SEXDSTN_FLAG_CD        15640 non-null  int64\n",
      " 3   AGRDE_FLAG_NM          15640 non-null  int64\n",
      " 4   ANSWRR_OC_AREA_NM      15640 non-null  int64\n",
      " 5   HSHLD_INCOME_DGREE_NM  15640 non-null  int64\n",
      " 6   HSHLD_INCOME_DGREE_NM  15640 non-null  int64\n",
      " 7   DMSTC_TOUR_TY_VALUE    15640 non-null  int64\n",
      "dtypes: int64(8)\n",
      "memory usage: 1.6 MB\n"
     ]
    }
   ],
   "source": [
    "data.info()"
   ]
  },
  {
   "cell_type": "code",
   "execution_count": 11,
   "id": "114d170a",
   "metadata": {},
   "outputs": [],
   "source": [
    "data.to_csv('/Users/hyeokseung/Desktop/KHUDA_TOY/Data/숙박 여행 유형 정보/csv/ouput.csv', index=False)"
   ]
  }
 ],
 "metadata": {
  "kernelspec": {
   "display_name": "Python 3 (ipykernel)",
   "language": "python",
   "name": "python3"
  },
  "language_info": {
   "codemirror_mode": {
    "name": "ipython",
    "version": 3
   },
   "file_extension": ".py",
   "mimetype": "text/x-python",
   "name": "python",
   "nbconvert_exporter": "python",
   "pygments_lexer": "ipython3",
   "version": "3.11.4"
  }
 },
 "nbformat": 4,
 "nbformat_minor": 5
}
