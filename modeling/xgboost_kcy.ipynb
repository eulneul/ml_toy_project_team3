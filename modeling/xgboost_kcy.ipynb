{
 "cells": [
  {
   "cell_type": "code",
   "execution_count": 246,
   "metadata": {},
   "outputs": [],
   "source": [
    "import pandas as pd\n",
    "import numpy as np\n",
    "from sklearn.model_selection import train_test_split\n",
    "\n",
    "from sklearn.model_selection import train_test_split\n",
    "\n",
    "from sklearn.multioutput import MultiOutputRegressor\n"
   ]
  },
  {
   "cell_type": "code",
   "execution_count": 247,
   "metadata": {},
   "outputs": [
    {
     "name": "stdout",
     "output_type": "stream",
     "text": [
      "       Unnamed: 0      DATE  SEX  AGE  AREA  INCOME  SEOUL  GYEONGI  BUSAN  \\\n",
      "0               0  20221003    1    4    14       2      2        3      2   \n",
      "1               1  20221003    1    4    14       3      3        3      2   \n",
      "2               2  20221003    1    2     2       3      3        2      3   \n",
      "3               3  20221003    1    2     2       2      2        2      1   \n",
      "4               4  20221003    1    1    14       1      0        2      3   \n",
      "...           ...       ...  ...  ...   ...     ...    ...      ...    ...   \n",
      "10250       10965  20230731    1    4     1       1      2        2      3   \n",
      "10251       10966  20230731    1    3     1       4      2        2      2   \n",
      "10252       10967  20230731    1    3    11       2      3        2      4   \n",
      "10253       10968  20230731    0    1     8       1      2        2      2   \n",
      "10254       10970  20230731    1    4     1       2      2        2      2   \n",
      "\n",
      "       CHUNGNAM  CHUNGBUK  GYEONGNAM  GYEONGBUK  JEONNAM  JEONBUK  GANGWON  \\\n",
      "0             1         2          1          0        0        2        3   \n",
      "1             2         3          2          2        2        2        4   \n",
      "2             2         2          2          2        2        2        2   \n",
      "3             2         1          2          2        3        1        3   \n",
      "4             2         2          1          2        2        2        3   \n",
      "...         ...       ...        ...        ...      ...      ...      ...   \n",
      "10250         2         2          3          3        2        2        2   \n",
      "10251         2         2          2          2        2        2        2   \n",
      "10252         2         2          3          3        2        3        4   \n",
      "10253         2         2          2          2        2        2        2   \n",
      "10254         2         2          3          2        2        2        3   \n",
      "\n",
      "       JEJU  \n",
      "0         4  \n",
      "1         4  \n",
      "2         4  \n",
      "3         4  \n",
      "4         4  \n",
      "...     ...  \n",
      "10250     3  \n",
      "10251     2  \n",
      "10252     4  \n",
      "10253     2  \n",
      "10254     2  \n",
      "\n",
      "[10255 rows x 17 columns]\n"
     ]
    }
   ],
   "source": [
    "# CSV 파일 경로\n",
    "csv_file_path = '/Users/jojanghyun/Desktop/KHUDA/toy_project/interest_preprocessed.csv'\n",
    "\n",
    "# CSV 파일을 데이터프레임으로 로드\n",
    "df = pd.read_csv(csv_file_path)\n",
    "\n",
    "print(df)\n",
    "\n"
   ]
  },
  {
   "cell_type": "code",
   "execution_count": 248,
   "metadata": {},
   "outputs": [
    {
     "name": "stdout",
     "output_type": "stream",
     "text": [
      "       Unnamed: 0      DATE  SEX  AGE  AREA  INCOME  SEOUL  GYEONGI  BUSAN  \\\n",
      "0               0  20221003    1    4    14       2      2        3      2   \n",
      "1               1  20221003    1    4    14       3      3        3      2   \n",
      "2               2  20221003    1    2     2       3      3        2      3   \n",
      "3               3  20221003    1    2     2       2      2        2      1   \n",
      "4               4  20221003    1    1    14       1      0        2      3   \n",
      "...           ...       ...  ...  ...   ...     ...    ...      ...    ...   \n",
      "10250       10965  20230731    1    4     1       1      2        2      3   \n",
      "10251       10966  20230731    1    3     1       4      2        2      2   \n",
      "10252       10967  20230731    1    3    11       2      3        2      4   \n",
      "10253       10968  20230731    0    1     8       1      2        2      2   \n",
      "10254       10970  20230731    1    4     1       2      2        2      2   \n",
      "\n",
      "       CHUNGNAM  CHUNGBUK  GYEONGNAM  GYEONGBUK  JEONNAM  JEONBUK  GANGWON  \\\n",
      "0             1         2          1          0        0        2        3   \n",
      "1             2         3          2          2        2        2        4   \n",
      "2             2         2          2          2        2        2        2   \n",
      "3             2         1          2          2        3        1        3   \n",
      "4             2         2          1          2        2        2        3   \n",
      "...         ...       ...        ...        ...      ...      ...      ...   \n",
      "10250         2         2          3          3        2        2        2   \n",
      "10251         2         2          2          2        2        2        2   \n",
      "10252         2         2          3          3        2        3        4   \n",
      "10253         2         2          2          2        2        2        2   \n",
      "10254         2         2          3          2        2        2        3   \n",
      "\n",
      "       JEJU                         SUM_INTRST  \n",
      "0         4  [2, 3, 2, 1, 2, 1, 0, 0, 2, 3, 4]  \n",
      "1         4  [3, 3, 2, 2, 3, 2, 2, 2, 2, 4, 4]  \n",
      "2         4  [3, 2, 3, 2, 2, 2, 2, 2, 2, 2, 4]  \n",
      "3         4  [2, 2, 1, 2, 1, 2, 2, 3, 1, 3, 4]  \n",
      "4         4  [0, 2, 3, 2, 2, 1, 2, 2, 2, 3, 4]  \n",
      "...     ...                                ...  \n",
      "10250     3  [2, 2, 3, 2, 2, 3, 3, 2, 2, 2, 3]  \n",
      "10251     2  [2, 2, 2, 2, 2, 2, 2, 2, 2, 2, 2]  \n",
      "10252     4  [3, 2, 4, 2, 2, 3, 3, 2, 3, 4, 4]  \n",
      "10253     2  [2, 2, 2, 2, 2, 2, 2, 2, 2, 2, 2]  \n",
      "10254     2  [2, 2, 2, 2, 2, 3, 2, 2, 2, 3, 2]  \n",
      "\n",
      "[10255 rows x 18 columns]\n"
     ]
    }
   ],
   "source": [
    "\n",
    "# 지역 별 값을 포함하는 새로운 특징 열 생성\n",
    "df['SUM_INTRST'] = df.apply(lambda row: [row['SEOUL'], row['GYEONGI'], row['BUSAN'],row['CHUNGNAM'], row['CHUNGBUK'], row['GYEONGNAM'],row['GYEONGBUK'], row['JEONNAM'],row['JEONBUK'], row['GANGWON'], row['JEJU']], axis=1)\n",
    "\n",
    "# 결과 확인\n",
    "print(df)\n"
   ]
  },
  {
   "cell_type": "code",
   "execution_count": 249,
   "metadata": {},
   "outputs": [],
   "source": [
    "#df.to_csv('new_dataset.csv', index=False) "
   ]
  },
  {
   "cell_type": "code",
   "execution_count": 250,
   "metadata": {},
   "outputs": [],
   "source": [
    "# 특징 열 선택 (성별, 나이, 거주지역, 수입)\n",
    "X = df.iloc[:, 1:5] \n",
    "\n",
    "# 타겟 열 선택 (예측하려는 목표)\n",
    "y = df['SUM_INTRST'].tolist()  \n",
    "\n",
    "# 다중 레이블 데이터를 MultiLabelBinarizer를 사용하여 이진 배열로 변환\n",
    "#mlb = MultiLabelBinarizer()\n",
    "#y = mlb.fit_transform(y)  # y는 다중 레이블 데이터"
   ]
  },
  {
   "cell_type": "code",
   "execution_count": 251,
   "metadata": {},
   "outputs": [],
   "source": [
    "# 데이터를 학습 및 테스트 세트로 분할 (예: 80% 학습, 20% 테스트)\n",
    "X_train, X_test, y_train, y_test = train_test_split(X, y, test_size=0.2, random_state=42)\n"
   ]
  },
  {
   "cell_type": "code",
   "execution_count": 252,
   "metadata": {},
   "outputs": [],
   "source": [
    "from xgboost import XGBRegressor\n",
    "\n",
    "\n",
    "# XGBoost 모델 정의 및 초기화\n",
    "xgb_regressor = XGBRegressor(n_estimators=50, learning_rate=0.1, max_depth=3)\n",
    "\n",
    "# MultiOutputRegressor 사용\n",
    "multi_output_regressor = MultiOutputRegressor(xgb_regressor)\n",
    "\n",
    "# 모델 훈련\n",
    "multi_output_regressor.fit(X_train, y_train)\n",
    "\n",
    "# 테스트 데이터를 사용하여 모델 평가\n",
    "y_pred = multi_output_regressor.predict(X_test)\n"
   ]
  },
  {
   "cell_type": "code",
   "execution_count": 253,
   "metadata": {},
   "outputs": [
    {
     "name": "stdout",
     "output_type": "stream",
     "text": [
      "mse: 0.8665834418480999\n",
      "r2: 0.017068991776766837\n",
      "mae: 0.6857371415754174\n"
     ]
    }
   ],
   "source": [
    "\n",
    "# 정확도 계산\n",
    "# Mean Square Error\n",
    "from sklearn.metrics import mean_squared_error\n",
    "\n",
    "mse = mean_squared_error(y_test, y_pred)\n",
    "\n",
    "print(\"mse:\", mse)\n",
    "\n",
    "# R2 score\n",
    "from sklearn.metrics import r2_score\n",
    "\n",
    "r2 = r2_score(y_test, y_pred)\n",
    "\n",
    "print(\"r2:\", r2)\n",
    "\n",
    "# Mean Absolute Error\n",
    "from sklearn.metrics import mean_absolute_error\n",
    "\n",
    "mae = mean_absolute_error(y_test, y_pred)\n",
    "\n",
    "print(\"mae:\", mae)\n"
   ]
  },
  {
   "cell_type": "code",
   "execution_count": 254,
   "metadata": {},
   "outputs": [
    {
     "name": "stdout",
     "output_type": "stream",
     "text": [
      "새로운 데이터에 대한 예측 결과: [[2.5020564 2.165386  2.2496266 2.0149186 2.0570893 2.0256577 1.9206907\n",
      "  2.2842793 2.033449  2.6132438 2.7418802]]\n"
     ]
    }
   ],
   "source": [
    "# 새로운 데이터를 예측하기\n",
    "# 기존의 1열 데이터와 같은 데이터를 새로운 데이터로 추가\n",
    "\n",
    "new_data = np.array([[1,3,2,3]])\n",
    "\n",
    "new_predict = multi_output_regressor.predict(new_data)\n",
    "\n",
    "print(\"새로운 데이터에 대한 예측 결과:\", new_predict)"
   ]
  },
  {
   "cell_type": "code",
   "execution_count": 255,
   "metadata": {},
   "outputs": [
    {
     "name": "stdout",
     "output_type": "stream",
     "text": [
      "new data mse: 0.4097791295495005\n"
     ]
    }
   ],
   "source": [
    "# 새로운 데이터의 MSE 구하기\n",
    "new_mse = mean_squared_error(df.iloc[1,5:16].tolist(), new_predict[0])\n",
    "\n",
    "print(\"new data mse:\", new_mse)"
   ]
  },
  {
   "cell_type": "code",
   "execution_count": 257,
   "metadata": {},
   "outputs": [
    {
     "name": "stdout",
     "output_type": "stream",
     "text": [
      "새로운 데이터에 대한 예측 결과: [[1.7560837 1.9245986 2.322931  1.8810484 1.9127337 1.8035202 1.7706655\n",
      "  2.0981004 2.043581  2.6426587 2.819713 ]]\n"
     ]
    }
   ],
   "source": [
    "\n",
    "sex, age, area, income = map(int, input('성별(남자:0, 여자:1) 나이(20대:0, 30대:1, 40대:2, 50대:3, 60대:4), 거주지역(강원도,경기도,경상남도,경상북도,광주광역시,대구광역시,대전광역시,부산광역시,서울특별시,울산광역시,인천광역시,전라남도,전라북도,제주도,충청남도(세종시 포함),충청북도), 월소득수준(1:~300,~500~700,4:700~)을 띄어쓰기로 구분하여 입력하시오').split())\n",
    "new_data = np.array([[sex, age,area,income]])\n",
    "\n",
    "new_predict = multi_output_regressor.predict(new_data)\n",
    "\n",
    "print(\"새로운 데이터에 대한 예측 결과:\", new_predict)\n"
   ]
  },
  {
   "cell_type": "code",
   "execution_count": null,
   "metadata": {},
   "outputs": [
    {
     "name": "stdout",
     "output_type": "stream",
     "text": [
      "new data mse: 0.5896156107090268\n"
     ]
    }
   ],
   "source": [
    "\n",
    "new_mse = mean_squared_error(df.iloc[1,5:16].tolist(), new_predict[0])\n",
    "\n",
    "print(\"new data mse:\", new_mse)"
   ]
  },
  {
   "cell_type": "code",
   "execution_count": null,
   "metadata": {},
   "outputs": [
    {
     "name": "stdout",
     "output_type": "stream",
     "text": [
      "Fitting 5 folds for each of 27 candidates, totalling 135 fits\n",
      "최적 하이퍼파라미터: {'learning_rate': 0.1, 'max_depth': 2, 'n_estimators': 50}\n",
      "최적 점수: 0.016477366739203005\n"
     ]
    }
   ],
   "source": [
    "import xgboost as xgb\n",
    "from sklearn.model_selection import GridSearchCV\n",
    "from sklearn.datasets import load_iris\n",
    "from sklearn.model_selection import train_test_split\n",
    "\n",
    "\n",
    "\n",
    "# 탐색할 하이퍼파라미터 그리드 정의\n",
    "param_grid = {\n",
    "    'n_estimators': [50, 75, 25],  # 탐색할 n_estimators 후보값 [50, 100, 200] 에서 50/[50, 75, 25]에서 75\n",
    "    'learning_rate': [0.05, 0.1, 0.15],  # 탐색할 learning_rate 후보값 [0.01, 0.1, 0.2] 에서 0.1/[0.05, 0.1, 0.15]에서 1 \n",
    "    'max_depth': [3, 2, 1],  # 탐색할 max_depth 후보값 [3, 4, 5]에서 5/[3, 2, 1]에서 2\n",
    "}\n",
    "\n",
    "# GridSearchCV 객체 생성\n",
    "grid_search = GridSearchCV(xgb_regressor, param_grid, cv=5, verbose=2, n_jobs=-1)\n",
    "\n",
    "# Grid search 수행 (학습 데이터 X_train, y_train을 사용)\n",
    "grid_search.fit(X_train, y_train)\n",
    "\n",
    "# 최적의 하이퍼파라미터와 점수 출력\n",
    "print(\"최적 하이퍼파라미터:\", grid_search.best_params_)\n",
    "print(\"최적 점수:\", grid_search.best_score_)\n"
   ]
  }
 ],
 "metadata": {
  "kernelspec": {
   "display_name": "base",
   "language": "python",
   "name": "python3"
  },
  "language_info": {
   "codemirror_mode": {
    "name": "ipython",
    "version": 3
   },
   "file_extension": ".py",
   "mimetype": "text/x-python",
   "name": "python",
   "nbconvert_exporter": "python",
   "pygments_lexer": "ipython3",
   "version": "3.8.5"
  },
  "orig_nbformat": 4
 },
 "nbformat": 4,
 "nbformat_minor": 2
}
